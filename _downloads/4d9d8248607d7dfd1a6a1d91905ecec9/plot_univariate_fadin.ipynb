{
  "cells": [
    {
      "cell_type": "markdown",
      "metadata": {},
      "source": [
        "\n# FaDIn on simulated univariate Hawkes processes\n\nThis example demonstrates inference performed\nby FaDIn on univariate Hawkes processes simulated\nwith specific kernels.\n"
      ]
    },
    {
      "cell_type": "code",
      "execution_count": null,
      "metadata": {
        "collapsed": false
      },
      "outputs": [],
      "source": [
        "# Authors: Guillaume Staerman <guillaume.staerman@inria.fr>\n#          Alexandre Gramfort <alexandre.gramfort@inria.fr>\n#          Thomas Moreau <thomas.moreau@inria.fr>\n#\n# License: MIT"
      ]
    },
    {
      "cell_type": "markdown",
      "metadata": {},
      "source": [
        "Let us first define the parameters of our model.\n\n"
      ]
    },
    {
      "cell_type": "code",
      "execution_count": null,
      "metadata": {
        "collapsed": false
      },
      "outputs": [],
      "source": [
        "import numpy as np\nimport torch\nimport matplotlib.pyplot as plt\n\nfrom fadin.utils.utils_simu import simu_hawkes_cluster\nfrom fadin.solver import FaDIn\nfrom fadin.kernels import DiscreteKernelFiniteSupport\n\nn_dim = 1\ndt = 0.01\nT = 10_000\nkernel_length = 5\nL = int(1 / dt)\nsize_grid = int(T / dt) + 1\ndiscretization = torch.linspace(0, kernel_length, L)"
      ]
    },
    {
      "cell_type": "markdown",
      "metadata": {},
      "source": [
        "Here, we set the parameters of a Hawkes process with an Exponential(1) distribution.\n\n"
      ]
    },
    {
      "cell_type": "code",
      "execution_count": null,
      "metadata": {
        "collapsed": false
      },
      "outputs": [],
      "source": [
        "baseline = np.array([.4])\nalpha = np.array([[0.9]])\nbeta = 0.8"
      ]
    },
    {
      "cell_type": "markdown",
      "metadata": {},
      "source": [
        "Here, we simulate the data.\n\n"
      ]
    },
    {
      "cell_type": "code",
      "execution_count": null,
      "metadata": {
        "collapsed": false
      },
      "outputs": [],
      "source": [
        "# standard parameter is beta, the parameter of the exponential distribution,\n# equal to one.\nkernel = 'expon'\nevents = simu_hawkes_cluster(T, baseline, alpha, kernel,\n                             params_kernel={'scale': 1 / beta})"
      ]
    },
    {
      "cell_type": "markdown",
      "metadata": {},
      "source": [
        "Let's take a closer look at the events\n\n"
      ]
    },
    {
      "cell_type": "code",
      "execution_count": null,
      "metadata": {
        "collapsed": false
      },
      "outputs": [],
      "source": [
        "print('Type of events object', type(events))\n# events is a list of numpy arrays, one for each dimension\nprint('Number of events', len(events[0]))\nprint('First 10 events timestamps', events[0][:10])\n# For each event, its occurence time (timestamp) is stored in the numpy array.\n\n# `events`` is a list. Its elements are numpy arrays containing the timestamps\n# of the events. This is the expected data format for FaDIn."
      ]
    },
    {
      "cell_type": "markdown",
      "metadata": {},
      "source": [
        "Here, we apply FaDIn.\n\n"
      ]
    },
    {
      "cell_type": "code",
      "execution_count": null,
      "metadata": {
        "collapsed": false
      },
      "outputs": [],
      "source": [
        "solver = FaDIn(n_dim=1,\n               kernel=\"truncated_exponential\",\n               kernel_length=kernel_length,\n               delta=dt, optim=\"RMSprop\",\n               params_optim={'lr': 1e-3},\n               max_iter=2000\n               )\nsolver.fit(events, T)"
      ]
    },
    {
      "cell_type": "markdown",
      "metadata": {},
      "source": [
        "Here, we print the estimated parameters of the Hawkes process.\n\n"
      ]
    },
    {
      "cell_type": "code",
      "execution_count": null,
      "metadata": {
        "collapsed": false
      },
      "outputs": [],
      "source": [
        "print('Estimated baseline is:', solver.baseline_.item())\nprint('Estimated alpha is:', solver.alpha_.item())\nprint('Estimated beta parameter of the exponential kernel is:', solver.kernel_)"
      ]
    },
    {
      "cell_type": "markdown",
      "metadata": {},
      "source": [
        "Here, we plot the values of the estimated kernel with FaDIn.\n\n"
      ]
    },
    {
      "cell_type": "code",
      "execution_count": null,
      "metadata": {
        "collapsed": false
      },
      "outputs": [],
      "source": [
        "kernel = DiscreteKernelFiniteSupport(dt, n_dim, kernel='truncated_exponential',\n                                     kernel_length=kernel_length)\nkernel_values = kernel.kernel_eval(solver.kernel_, discretization)\n\nplt.plot(discretization[1:], kernel_values.squeeze()[1:]/kernel_length,\n         label='FaDIn\\' estimated kernel')\nplt.plot(discretization[1:], beta * torch.exp(-discretization[1:]*beta),\n         label='True kernel', c='k')\nplt.title('Hawkes influence kernel', size=20)\nplt.xlabel('Time', size=20)\nplt.ylabel(r'$\\phi(t)$', size=25)\nplt.legend(fontsize='x-large')\nplt.show()"
      ]
    }
  ],
  "metadata": {
    "kernelspec": {
      "display_name": "Python 3",
      "language": "python",
      "name": "python3"
    },
    "language_info": {
      "codemirror_mode": {
        "name": "ipython",
        "version": 3
      },
      "file_extension": ".py",
      "mimetype": "text/x-python",
      "name": "python",
      "nbconvert_exporter": "python",
      "pygments_lexer": "ipython3",
      "version": "3.8.2"
    }
  },
  "nbformat": 4,
  "nbformat_minor": 0
}