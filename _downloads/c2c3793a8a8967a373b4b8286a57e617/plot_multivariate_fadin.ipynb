{
  "cells": [
    {
      "cell_type": "markdown",
      "metadata": {},
      "source": [
        "\n# FaDIn on simulated 2-d Hawkes processes\n\nThis example demonstrates inference performed\nby FaDIn on multivariate Hawkes processes simulated\nwith specific kernels.\n"
      ]
    },
    {
      "cell_type": "code",
      "execution_count": null,
      "metadata": {
        "collapsed": false
      },
      "outputs": [],
      "source": [
        "# Authors: Guillaume Staerman <guillaume.staerman@inria.fr>\n#          Alexandre Gramfort <alexandre.gramfort@inria.fr>\n#          Thomas Moreau <thomas.moreau@inria.fr>\n#\n# License: MIT"
      ]
    },
    {
      "cell_type": "markdown",
      "metadata": {},
      "source": [
        "Let us first define the parameters of our model.\n\n"
      ]
    },
    {
      "cell_type": "code",
      "execution_count": null,
      "metadata": {
        "collapsed": false
      },
      "outputs": [],
      "source": [
        "import numpy as np\nimport torch\nimport matplotlib.pyplot as plt\nimport matplotlib.patches as mpatches\n\nfrom fadin.utils.utils_simu import simu_hawkes_cluster\nfrom fadin.solver import FaDIn\nfrom fadin.kernels import DiscreteKernelFiniteSupport\n\nn_dim = 2\ndt = 0.01\nT = 1_000_000\nkernel_length = 5\nL = int(1 / dt)\nsize_grid = int(T / dt) + 1\ndiscretization = torch.linspace(0, kernel_length, L)"
      ]
    },
    {
      "cell_type": "markdown",
      "metadata": {},
      "source": [
        "Here, we set the parameters of a Hawkes process with a Exponential(1)\ndistribution.\n\n"
      ]
    },
    {
      "cell_type": "code",
      "execution_count": null,
      "metadata": {
        "collapsed": false
      },
      "outputs": [],
      "source": [
        "baseline = np.array([.1, .5])\nalpha = np.array([[0.6, 0.3], [0.25, 0.7]])"
      ]
    },
    {
      "cell_type": "markdown",
      "metadata": {},
      "source": [
        "Here, we simulate the data\n\n"
      ]
    },
    {
      "cell_type": "code",
      "execution_count": null,
      "metadata": {
        "collapsed": false
      },
      "outputs": [],
      "source": [
        "kernel = 'expon'\n\nevents = simu_hawkes_cluster(T, baseline, alpha, kernel)"
      ]
    },
    {
      "cell_type": "markdown",
      "metadata": {},
      "source": [
        "Here, we initiate FaDIn and fit it to the simulated data.\n\n"
      ]
    },
    {
      "cell_type": "code",
      "execution_count": null,
      "metadata": {
        "collapsed": false
      },
      "outputs": [],
      "source": [
        "print(\"Fitting FaDIn solver...\")\nsolver = FaDIn(\n    n_dim=n_dim,\n    kernel=\"truncated_exponential\",\n    kernel_length=kernel_length,\n    delta=dt, optim=\"RMSprop\",\n    params_optim={'lr': 1e-3},\n    max_iter=10000\n)\nsolver.fit(events, T)\nprint(\"FaDIn solver fitted.\")\n# We can now access the estimated parameters of the model.\n\nprint('Estimated baseline is:', solver.baseline_)\nprint('Estimated alpha is:', solver.alpha_)\nprint('Estimated parameters of the truncated Exponential kernel is:',\n      solver.kernel_)"
      ]
    },
    {
      "cell_type": "markdown",
      "metadata": {},
      "source": [
        "Here, we plot the values of the estimated kernels with FaDIn.\n\n"
      ]
    },
    {
      "cell_type": "code",
      "execution_count": null,
      "metadata": {
        "collapsed": false
      },
      "outputs": [],
      "source": [
        "kernel = DiscreteKernelFiniteSupport(dt, n_dim, kernel='truncated_exponential',\n                                     kernel_length=kernel_length)\nkernel_values = kernel.kernel_eval(solver.kernel_, discretization)\n\nplt.subplots(figsize=(12, 8))\nfor i in range(n_dim):\n    for j in range(n_dim):\n        plt.subplot(n_dim, n_dim, i*n_dim + j + 1)\n        plt.plot(discretization[1:], kernel_values[i, j, 1:]/kernel_length)\n        plt.plot(discretization[1:], torch.exp(-discretization[1:]), c='k')\n        plt.ylabel(rf'$\\phi_{{{i}{j}}}$', size=20)\n\nblack_patch = mpatches.Patch(facecolor='k')\nblue_patch = mpatches.Patch(facecolor='C0')\nlabels = ['FaDIn\\' estimated kernel', 'True kernel']\ncolors = [blue_patch, black_patch]\nplt.legend(handles=colors, labels=labels, loc=\"center right\",\n           borderaxespad=0.1, fontsize='x-large')\nplt.suptitle('Hawkes influence kernels', size=20)\nplt.show()"
      ]
    }
  ],
  "metadata": {
    "kernelspec": {
      "display_name": "Python 3",
      "language": "python",
      "name": "python3"
    },
    "language_info": {
      "codemirror_mode": {
        "name": "ipython",
        "version": 3
      },
      "file_extension": ".py",
      "mimetype": "text/x-python",
      "name": "python",
      "nbconvert_exporter": "python",
      "pygments_lexer": "ipython3",
      "version": "3.8.2"
    }
  },
  "nbformat": 4,
  "nbformat_minor": 0
}