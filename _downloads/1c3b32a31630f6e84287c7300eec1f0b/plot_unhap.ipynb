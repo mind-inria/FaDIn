{
  "cells": [
    {
      "cell_type": "markdown",
      "metadata": {},
      "source": [
        "\n# UNHaP on simulated univariate Hawkes processes\n\nThis example demonstrates inference performed\nby UNHaP on univariate Hawkes processes simulated\nwith a truncated gaussian kernel.\n"
      ]
    },
    {
      "cell_type": "code",
      "execution_count": null,
      "metadata": {
        "collapsed": false
      },
      "outputs": [],
      "source": [
        "# Authors: Guillaume Staerman <guillaume.staerman@inria.fr>\n#          Virginie Loison <virginie.loison@inria.fr>\n#          Thomas Moreau <thomas.moreau@inria.fr>\n#\n# License: MIT"
      ]
    },
    {
      "cell_type": "markdown",
      "metadata": {},
      "source": [
        "Let us first define the parameters of our model.\n%% Imports\n\n"
      ]
    },
    {
      "cell_type": "code",
      "execution_count": null,
      "metadata": {
        "collapsed": false
      },
      "outputs": [],
      "source": [
        "import numpy as np\nimport matplotlib.pyplot as plt\n\nfrom fadin.utils.utils_simu import simulate_marked_data\nfrom fadin.solver import UNHaP\nfrom fadin.utils.vis import plot"
      ]
    },
    {
      "cell_type": "code",
      "execution_count": null,
      "metadata": {
        "collapsed": false
      },
      "outputs": [],
      "source": [
        "baseline = np.array([0.3])\nbaseline_noise = np.array([0.05])\nalpha = np.array([[1.45]])\nmu = np.array([[0.4]])\nsigma = np.array([[0.1]])\n\ndelta = 0.01\nend_time = 1000\nseed = 0\nmax_iter = 2000\nbatch_rho = 200"
      ]
    },
    {
      "cell_type": "code",
      "execution_count": null,
      "metadata": {
        "collapsed": false
      },
      "outputs": [],
      "source": [
        "ev, noisy_marks, true_rho = simulate_marked_data(\n    baseline, baseline_noise.item(), alpha, end_time, mu, sigma, seed=0\n)"
      ]
    },
    {
      "cell_type": "code",
      "execution_count": null,
      "metadata": {
        "collapsed": false
      },
      "outputs": [],
      "source": [
        "print('Type of ev object', type(ev))\n# ev is a list of numpy arrays, one for each dimension\nprint('Number of events', len(ev[0]))\nprint('Shape of first event array', ev[0].shape)\n# Each dimension is stored as a numpy array of shape (n_events, 2).\nprint('First 10 events timestamps and marks', ev[0][:10])\n# Each event is stored as [timestamp, mark].\n# This is the expected data format for UNHaP.\nprint('First event timestamp', ev[0][0][0])\nprint('First event mark', ev[0][0][1])\nprint('Second event timestamp', ev[0][1][0])\nprint('Second event mark', ev[0][1][1])"
      ]
    },
    {
      "cell_type": "code",
      "execution_count": null,
      "metadata": {
        "collapsed": false
      },
      "outputs": [],
      "source": [
        "solver = UNHaP(\n    n_dim=1,\n    kernel=\"truncated_gaussian\",\n    kernel_length=1.0,\n    init='moment_matching_mean',\n    delta=delta,\n    optim=\"RMSprop\",\n    params_optim={\"lr\": 1e-3},\n    max_iter=max_iter,\n    batch_rho=batch_rho,\n    density_hawkes=\"linear\",\n    density_noise=\"uniform\",\n)\nsolver.fit(ev, end_time)"
      ]
    },
    {
      "cell_type": "code",
      "execution_count": null,
      "metadata": {
        "collapsed": false
      },
      "outputs": [],
      "source": [
        "print(\"Estimated baseline is: \", solver.baseline_.item())\nprint(\"Estimated alpha is: \", solver.alpha_.item())\nprint(\"Estimated kernel mean is: \", solver.kernel_[0].item())\nprint(\"Estimated kernel sd is: \", solver.kernel_[1].item())\nprint(\"Estimated noise baseline is: \", solver.baseline_noise_.item())\n# error on params\nerror_bl = (solver.baseline_.item() - baseline.item()) ** 2\nerror_bl_noise = (\n    solver.baseline_noise_.item() - baseline_noise.item()\n) ** 2\nerror_alpha = (solver.alpha_.item() - alpha.item()) ** 2\nerror_mu = (solver.kernel_[0].item() - mu.item()) ** 2\nerror_sigma = (solver.kernel_[1].item() - sigma.item()) ** 2\nsum_error = error_bl + error_bl_noise + error_alpha + error_mu + error_sigma\nerror_params = np.sqrt(sum_error)\n\nprint(\"L2 square error of the vector of parameters is:\", error_params)"
      ]
    },
    {
      "cell_type": "code",
      "execution_count": null,
      "metadata": {
        "collapsed": false
      },
      "outputs": [],
      "source": [
        "fig, axs = plot(\n    solver,\n    plotfig=False,\n    bl_noise=True,\n    title=\"UNHaP fit\",\n    savefig=None\n)\nplt.show(block=True)"
      ]
    }
  ],
  "metadata": {
    "kernelspec": {
      "display_name": "Python 3",
      "language": "python",
      "name": "python3"
    },
    "language_info": {
      "codemirror_mode": {
        "name": "ipython",
        "version": 3
      },
      "file_extension": ".py",
      "mimetype": "text/x-python",
      "name": "python",
      "nbconvert_exporter": "python",
      "pygments_lexer": "ipython3",
      "version": "3.8.2"
    }
  },
  "nbformat": 4,
  "nbformat_minor": 0
}