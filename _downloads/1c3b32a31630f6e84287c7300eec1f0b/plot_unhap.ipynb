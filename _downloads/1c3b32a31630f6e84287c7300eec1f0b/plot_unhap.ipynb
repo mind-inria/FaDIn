{
  "cells": [
    {
      "cell_type": "markdown",
      "metadata": {},
      "source": [
        "\n# UNHaP on simulated univariate Hawkes processes\n\nThis example demonstrates inference performed\nby UNHaP on univariate Hawkes processes simulated\nwith a truncated gaussian kernel.\n"
      ]
    },
    {
      "cell_type": "code",
      "execution_count": null,
      "metadata": {
        "collapsed": false
      },
      "outputs": [],
      "source": [
        "# Authors: Guillaume Staerman <guillaume.staerman@inria.fr>\n#          Virginie Loison <virginie.loison@inria.fr>\n#          Thomas Moreau <thomas.moreau@inria.fr>\n#\n# License: MIT"
      ]
    },
    {
      "cell_type": "markdown",
      "metadata": {},
      "source": [
        "Let us first define the parameters of our model.\n%% Imports\n\n"
      ]
    },
    {
      "cell_type": "code",
      "execution_count": null,
      "metadata": {
        "collapsed": false
      },
      "outputs": [],
      "source": [
        "import numpy as np\nimport matplotlib.pyplot as plt\n\nfrom fadin.utils.utils_simu import simu_marked_hawkes_cluster, custom_density\nfrom fadin.utils.utils_simu import simu_multi_poisson\nfrom fadin.solver import UNHaP\nfrom fadin.utils.functions import identity, linear_zero_one\nfrom fadin.utils.functions import reverse_linear_zero_one, truncated_gaussian\nfrom fadin.utils.vis import plot"
      ]
    },
    {
      "cell_type": "code",
      "execution_count": null,
      "metadata": {
        "collapsed": false
      },
      "outputs": [],
      "source": [
        "baseline = np.array([0.3])\nbaseline_noise = np.array([0.05])\nalpha = np.array([[1.45]])\nmu = np.array([[0.4]])\nsigma = np.array([[0.1]])\n\ndelta = 0.01\nend_time = 10000\nseed = 0\nmax_iter = 20000\nbatch_rho = 200"
      ]
    },
    {
      "cell_type": "code",
      "execution_count": null,
      "metadata": {
        "collapsed": false
      },
      "outputs": [],
      "source": [
        "def simulate_data(baseline, baseline_noise, alpha, end_time, seed=0):\n    n_dim = len(baseline)\n\n    marks_kernel = identity\n    marks_density = linear_zero_one\n    time_kernel = truncated_gaussian\n\n    params_marks_density = dict()\n    # params_marks_density = dict(scale=1)\n    params_marks_kernel = dict(slope=1.2)\n    params_time_kernel = dict(mu=mu, sigma=sigma)\n\n    marked_events, _ = simu_marked_hawkes_cluster(\n        end_time,\n        baseline,\n        alpha,\n        time_kernel,\n        marks_kernel,\n        marks_density,\n        params_marks_kernel=params_marks_kernel,\n        params_marks_density=params_marks_density,\n        time_kernel_length=None,\n        marks_kernel_length=None,\n        params_time_kernel=params_time_kernel,\n        random_state=seed,\n    )\n\n    noisy_events_ = simu_multi_poisson(end_time, [baseline_noise])\n\n    random_marks = [np.random.rand(noisy_events_[i].shape[0]) for i in range(n_dim)]\n    noisy_marks = [\n        custom_density(\n            reverse_linear_zero_one,\n            dict(),\n            size=noisy_events_[i].shape[0],\n            kernel_length=1.0,\n        )\n        for i in range(n_dim)\n    ]\n    noisy_events = [\n        np.concatenate(\n            (noisy_events_[i].reshape(-1, 1), random_marks[i].reshape(-1, 1)), axis=1\n        )\n        for i in range(n_dim)\n    ]\n\n    events = [\n        np.concatenate((noisy_events[i], marked_events[i]), axis=0)\n        for i in range(n_dim)\n    ]\n\n    events_cat = [events[i][events[i][:, 0].argsort()] for i in range(n_dim)]\n\n    labels = [\n        np.zeros(marked_events[i].shape[0] + noisy_events_[i].shape[0])\n        for i in range(n_dim)\n    ]\n    labels[0][-marked_events[0].shape[0] :] = 1.0\n    true_rho = [labels[i][events[i][:, 0].argsort()] for i in range(n_dim)]\n    # put the mark to one to test the impact of the marks\n    # events_cat[0][:, 1] = 1.\n\n    return events_cat, noisy_marks, true_rho\n\n\nev, noisy_marks, true_rho = simulate_data(\n    baseline, baseline_noise.item(), alpha, end_time, seed=0\n)"
      ]
    },
    {
      "cell_type": "code",
      "execution_count": null,
      "metadata": {
        "collapsed": false
      },
      "outputs": [],
      "source": [
        "solver = UNHaP(\n    n_dim=1,\n    kernel=\"truncated_gaussian\",\n    kernel_length=1.0,\n    delta=delta,\n    optim=\"RMSprop\",\n    params_optim={\"lr\": 1e-3},\n    max_iter=max_iter,\n    batch_rho=batch_rho,\n    density_hawkes=\"linear\",\n    density_noise=\"uniform\",\n    moment_matching=True,\n)\nsolver.fit(ev, end_time)"
      ]
    },
    {
      "cell_type": "code",
      "execution_count": null,
      "metadata": {
        "collapsed": false
      },
      "outputs": [],
      "source": [
        "print(\"Estimated baseline is: \", solver.param_baseline[-10:].mean().item())\nprint(\"Estimated alpha is: \", solver.param_alpha[-10:].mean().item())\nprint(\"Estimated kernel mean is: \", (solver.param_kernel[0][-10:].mean().item()))\nprint(\"Estimated kernel sd is: \", solver.param_kernel[1][-10:].mean().item())\nprint(\"Estimated noise baseline is: \", solver.param_baseline_noise[-10:].mean().item())\n# error on params\nerror_baseline = (solver.param_baseline[-10:].mean().item() - baseline.item()) ** 2\nerror_baseline_noise = (\n    solver.param_baseline_noise[-10:].mean().item() - baseline_noise.item()\n) ** 2\nerror_alpha = (solver.param_alpha[-10:].mean().item() - alpha.item()) ** 2\nerror_mu = (solver.param_kernel[0][-10:].mean().item() - 0.5) ** 2\nerror_sigma = (solver.param_kernel[1][-10:].mean().item() - 0.1) ** 2\nsum_error = error_baseline + error_baseline_noise + error_alpha + error_mu + error_sigma\nerror_params = np.sqrt(sum_error)\n\nprint(\"L2 square errors of the vector of parameters is:\", error_params)"
      ]
    },
    {
      "cell_type": "code",
      "execution_count": null,
      "metadata": {
        "collapsed": false
      },
      "outputs": [],
      "source": [
        "fig, axs = plot(solver, plotfig=False, bl_noise=True, title=\"UNHaP fit\", savefig=None)\nplt.show(block=True)"
      ]
    }
  ],
  "metadata": {
    "kernelspec": {
      "display_name": "Python 3",
      "language": "python",
      "name": "python3"
    },
    "language_info": {
      "codemirror_mode": {
        "name": "ipython",
        "version": 3
      },
      "file_extension": ".py",
      "mimetype": "text/x-python",
      "name": "python",
      "nbconvert_exporter": "python",
      "pygments_lexer": "ipython3",
      "version": "3.8.2"
    }
  },
  "nbformat": 4,
  "nbformat_minor": 0
}